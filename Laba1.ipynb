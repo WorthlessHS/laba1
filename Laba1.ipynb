{
  "nbformat": 4,
  "nbformat_minor": 0,
  "metadata": {
    "colab": {
      "provenance": []
    },
    "kernelspec": {
      "name": "python3",
      "display_name": "Python 3"
    },
    "language_info": {
      "name": "python"
    }
  },
  "cells": [
    {
      "cell_type": "code",
      "execution_count": 3,
      "metadata": {
        "colab": {
          "base_uri": "https://localhost:8080/"
        },
        "id": "_yGS_sYTJga6",
        "outputId": "d798b9c3-0a46-4f0e-cdfa-e829e2a35b74"
      },
      "outputs": [
        {
          "output_type": "stream",
          "name": "stdout",
          "text": [
            "\n",
            "+-------------------------------+\n",
            "|             Hotel             |\n",
            "+-------------------------------+\n",
            "| - _name: str                  |\n",
            "| - _total_rooms: int           |\n",
            "| - _occupied_rooms: int        |\n",
            "| - _price_per_day: float       |\n",
            "+-------------------------------+\n",
            "| + name: str {read only}       |\n",
            "| + total_rooms: int {read only}|\n",
            "| + occupied_rooms: int {read only}|\n",
            "| + price_per_day: float {write only}|\n",
            "+-------------------------------+\n",
            "| + total_revenue(): float      |\n",
            "+-------------------------------+\n",
            "\n",
            "Название гостиницы: Sunrise\n",
            "Общее число мест: 100\n",
            "Число заселенных мест: 75\n",
            "Оплата за день проживания: 1500.0\n",
            "Общая выручка: 112500.0\n",
            "Новая оплата за день проживания: 1600.0\n",
            "Общая выручка после изменения цены: 120000.0\n"
          ]
        }
      ],
      "source": [
        "def print_uml_diagram():\n",
        "    diagram = \"\"\"\n",
        "+-------------------------------+\n",
        "|             Hotel             |\n",
        "+-------------------------------+\n",
        "| - _name: str                  |\n",
        "| - _total_rooms: int           |\n",
        "| - _occupied_rooms: int        |\n",
        "| - _price_per_day: float       |\n",
        "+-------------------------------+\n",
        "| + name: str {read only}       |\n",
        "| + total_rooms: int {read only}|\n",
        "| + occupied_rooms: int {read only}|\n",
        "| + price_per_day: float {write only}|\n",
        "+-------------------------------+\n",
        "| + total_revenue(): float      |\n",
        "+-------------------------------+\n",
        "\"\"\"\n",
        "    print(diagram)\n",
        "\n",
        "class Hotel:\n",
        "    def __init__(self, name: str, total_rooms: int, occupied_rooms: int, price_per_day: float):\n",
        "        self._name = name\n",
        "        self._total_rooms = total_rooms\n",
        "        self._occupied_rooms = occupied_rooms\n",
        "        self._price_per_day = price_per_day\n",
        "\n",
        "    @property\n",
        "    def name(self):\n",
        "        return self._name\n",
        "\n",
        "    @property\n",
        "    def total_rooms(self):\n",
        "        return self._total_rooms\n",
        "\n",
        "    @property\n",
        "    def occupied_rooms(self):\n",
        "        return self._occupied_rooms\n",
        "\n",
        "    @property\n",
        "    def price_per_day(self):\n",
        "        return self._price_per_day\n",
        "\n",
        "    @price_per_day.setter\n",
        "    def price_per_day(self, value):\n",
        "        if value < 0:\n",
        "            raise ValueError(\"Цена за день проживания не может быть отрицательной\")\n",
        "        self._price_per_day = value\n",
        "\n",
        "    def total_revenue(self):\n",
        "        return self._occupied_rooms * self._price_per_day\n",
        "\n",
        "\n",
        "if __name__ == \"__main__\":\n",
        "    print_uml_diagram()\n",
        "\n",
        "    hotel = Hotel(\"Sunrise\", 100, 75, 1500.0)\n",
        "\n",
        "    print(f\"Название гостиницы: {hotel.name}\")\n",
        "    print(f\"Общее число мест: {hotel.total_rooms}\")\n",
        "    print(f\"Число заселенных мест: {hotel.occupied_rooms}\")\n",
        "    print(f\"Оплата за день проживания: {hotel.price_per_day}\")\n",
        "\n",
        "    print(f\"Общая выручка: {hotel.total_revenue()}\")\n",
        "\n",
        "    hotel.price_per_day = 1600.0\n",
        "    print(f\"Новая оплата за день проживания: {hotel.price_per_day}\")\n",
        "    print(f\"Общая выручка после изменения цены: {hotel.total_revenue()}\")\n"
      ]
    }
  ]
}